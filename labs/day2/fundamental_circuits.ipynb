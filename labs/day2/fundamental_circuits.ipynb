{
 "cells": [
  {
   "cell_type": "markdown",
   "id": "cdd93828",
   "metadata": {},
   "source": [
    "## Quantum (Superposition)"
   ]
  },
  {
   "cell_type": "code",
   "execution_count": 21,
   "id": "cda26298",
   "metadata": {},
   "outputs": [
    {
     "name": "stdout",
     "output_type": "stream",
     "text": [
      "Probability of 0: 0.4909\n",
      "Probability of 1: 0.5091\n"
     ]
    }
   ],
   "source": [
    "from qiskit import QuantumCircuit, transpile\n",
    "from qiskit_aer import AerSimulator\n",
    "\n",
    "backend = AerSimulator()\n",
    "\n",
    "qc = QuantumCircuit(1, 1)\n",
    "qc.h(0)\n",
    "qc.measure(0, 0)\n",
    "\n",
    "transpiled = transpile(qc, backend)\n",
    "result = backend.run(transpiled, shots=10000).result()\n",
    "counts = result.get_counts(transpiled)\n",
    "print(f\"Probability of 0: {counts['0']/10000}\")\n",
    "print(f\"Probability of 1: {counts['1']/10000}\")"
   ]
  },
  {
   "cell_type": "markdown",
   "id": "46f54ddd",
   "metadata": {},
   "source": [
    "## Classical NOT Operation (X gate)"
   ]
  },
  {
   "cell_type": "code",
   "execution_count": 22,
   "id": "f9a9203d",
   "metadata": {},
   "outputs": [
    {
     "name": "stdout",
     "output_type": "stream",
     "text": [
      "{'1': 1024}\n"
     ]
    }
   ],
   "source": [
    "from qiskit import QuantumCircuit, transpile\n",
    "from qiskit_aer import AerSimulator\n",
    "\n",
    "backend = AerSimulator()\n",
    "\n",
    "qc = QuantumCircuit(1, 1)\n",
    "qc.x(0)\n",
    "qc.measure(0, 0)\n",
    "\n",
    "transpiled = transpile(qc, backend)\n",
    "result = backend.run(transpiled, shots=1024).result()\n",
    "counts = result.get_counts(transpiled)\n",
    "print(counts)"
   ]
  },
  {
   "cell_type": "markdown",
   "id": "8f74640a",
   "metadata": {},
   "source": [
    "## Quantum Interference (H|+>)"
   ]
  },
  {
   "cell_type": "code",
   "execution_count": null,
   "id": "5fbdd533",
   "metadata": {},
   "outputs": [
    {
     "name": "stdout",
     "output_type": "stream",
     "text": [
      "{'0': 1024}\n"
     ]
    }
   ],
   "source": [
    "from qiskit import QuantumCircuit, transpile\n",
    "from qiskit_aer import AerSimulator\n",
    "\n",
    "backend = AerSimulator()\n",
    "\n",
    "qc = QuantumCircuit(1, 1)\n",
    "qc.h(0) #| prepare plus state \n",
    "qc.h(0)\n",
    "qc.measure(0, 0)\n",
    "\n",
    "transpiled = transpile(qc, backend)\n",
    "result = backend.run(transpiled, shots=1024).result()\n",
    "counts = result.get_counts(transpiled)\n",
    "print(counts)"
   ]
  },
  {
   "cell_type": "markdown",
   "id": "0cf3088c",
   "metadata": {},
   "source": [
    "## H -> Z -> H = X"
   ]
  },
  {
   "cell_type": "code",
   "execution_count": 24,
   "id": "7471d05a",
   "metadata": {},
   "outputs": [
    {
     "name": "stdout",
     "output_type": "stream",
     "text": [
      "{'1': 1024}\n"
     ]
    }
   ],
   "source": [
    "from qiskit import QuantumCircuit, transpile\n",
    "from qiskit_aer import AerSimulator\n",
    "\n",
    "backend = AerSimulator()\n",
    "\n",
    "qc = QuantumCircuit(1, 1)\n",
    "qc.h(0)\n",
    "qc.z(0) # |->\n",
    "qc.h(0)\n",
    "qc.measure(0, 0)\n",
    "\n",
    "transpiled = transpile(qc, backend)\n",
    "result = backend.run(transpiled, shots=1024).result()\n",
    "counts = result.get_counts(transpiled)\n",
    "print(counts)"
   ]
  },
  {
   "cell_type": "markdown",
   "id": "06b2a2f5",
   "metadata": {},
   "source": [
    "## Bell State Creation (Entanglement)"
   ]
  },
  {
   "cell_type": "code",
   "execution_count": null,
   "id": "7c5f1c0c",
   "metadata": {},
   "outputs": [
    {
     "name": "stdout",
     "output_type": "stream",
     "text": [
      "Probability of 00: 0.50390625\n",
      "Probability of 11: 0.49609375\n"
     ]
    }
   ],
   "source": [
    "from qiskit import QuantumCircuit, transpile\n",
    "from qiskit_aer import AerSimulator\n",
    "\n",
    "backend = AerSimulator()\n",
    "\n",
    "qc = QuantumCircuit(2, 2)\n",
    "qc.h(0)\n",
    "qc.cx(0, 1)\n",
    "qc.measure([0, 1] , [0, 1])\n",
    "\n",
    "transpiled = transpile(qc, backend)\n",
    "result = backend.run(transpiled, shots=1024).result()\n",
    "counts = result.get_counts(transpiled)\n",
    "print(f\"Probability of 00: {counts['00']/1024}\")\n",
    "print(f\"Probability of 11: {counts['11']/1024}\")"
   ]
  },
  {
   "cell_type": "markdown",
   "id": "487314d7",
   "metadata": {},
   "source": [
    "## GHZ State (Three-Qubit Entanglement)"
   ]
  },
  {
   "cell_type": "code",
   "execution_count": 27,
   "id": "00fe2bbd",
   "metadata": {},
   "outputs": [
    {
     "name": "stdout",
     "output_type": "stream",
     "text": [
      "{'0000': 523, '1111': 501}\n"
     ]
    }
   ],
   "source": [
    "from qiskit import QuantumCircuit, transpile\n",
    "from qiskit_aer import AerSimulator\n",
    "\n",
    "backend = AerSimulator()\n",
    "\n",
    "qc = QuantumCircuit(4, 4)\n",
    "qc.h(0)\n",
    "qc.cx(0, 1)\n",
    "qc.cx(1, 2)\n",
    "qc.cx(2,3)\n",
    "qc.measure([0, 1, 2, 3], [0, 1, 2, 3])\n",
    "\n",
    "transpiled = transpile(qc, backend)\n",
    "result = backend.run(transpiled, shots=1024).result()\n",
    "counts = result.get_counts(transpiled)\n",
    "print(counts)"
   ]
  }
 ],
 "metadata": {
  "kernelspec": {
   "display_name": "ST",
   "language": "python",
   "name": "python3"
  },
  "language_info": {
   "codemirror_mode": {
    "name": "ipython",
    "version": 3
   },
   "file_extension": ".py",
   "mimetype": "text/x-python",
   "name": "python",
   "nbconvert_exporter": "python",
   "pygments_lexer": "ipython3",
   "version": "3.9.22"
  }
 },
 "nbformat": 4,
 "nbformat_minor": 5
}
