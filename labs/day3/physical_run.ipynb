{
 "cells": [
  {
   "cell_type": "code",
   "execution_count": null,
   "id": "69cc7358",
   "metadata": {},
   "outputs": [],
   "source": [
    "from qiskit import QuantumCircuit\n",
    "from qiskit_ibm_runtime import QiskitRuntimeService, SamplerV2 as Sampler\n",
    "from qiskit.transpiler.preset_passmanagers import generate_preset_pass_manager\n",
    "QiskitRuntimeService.save_account(channel=\"ibm_cloud\", \n",
    "                                  instance=\"ibm_brisbane\",\n",
    "                                  token=\"YOUR_TOKEN\", \n",
    "                                  set_as_default=True,\n",
    "                                  overwrite=True)\n",
    "\n",
    "service = QiskitRuntimeService()"
   ]
  },
  {
   "cell_type": "code",
   "execution_count": null,
   "id": "4073be53",
   "metadata": {},
   "outputs": [],
   "source": [
    "# Select backend\n",
    "backend = service.backend(\"ibm_brisbane\") \n",
    "print(f\"Using backend: {backend.name}\")"
   ]
  },
  {
   "cell_type": "code",
   "execution_count": null,
   "id": "2ae59435",
   "metadata": {},
   "outputs": [],
   "source": [
    "properties = backend.properties(refresh=True)  #\n",
    "target = backend.target  \n",
    "config = backend.configuration()"
   ]
  },
  {
   "cell_type": "code",
   "execution_count": null,
   "id": "8058d7ca",
   "metadata": {},
   "outputs": [],
   "source": [
    "# Print general backend information\n",
    "print(f\"Backend Name: {properties.backend_name}\")\n",
    "print(f\"Last Update: {properties.last_update_date}\")\n",
    "print(f\"Number of Qubits: {config.n_qubits}\")\n",
    "print(f\"Basis Gates: {config.basis_gates}\")"
   ]
  },
  {
   "cell_type": "code",
   "execution_count": null,
   "id": "46477867",
   "metadata": {},
   "outputs": [],
   "source": [
    "print(\"\\nSingle-Qubit Errors and Gate Times:\")\n",
    "single_qubit_gates = ['id', 'rz', 'sx', 'x']  \n",
    "for gate in single_qubit_gates:\n",
    "        print(f\"\\nGate: {gate}\")\n",
    "        for qubit in range(min(5, config.n_qubits)):  # Limit to first 5 qubits\n",
    "                error = properties.gate_error(gate, [qubit]) if properties.gate_error(gate, [qubit]) is not None else \"N/A\"\n",
    "                duration = target[gate][(qubit,)].duration * 1e9  # Convert to ns\n",
    "                print(f\"  Qubit {qubit}: Error = {error:.4f}, Duration = {duration:.1f} ns\")"
   ]
  },
  {
   "cell_type": "code",
   "execution_count": null,
   "id": "0b105bdf",
   "metadata": {},
   "outputs": [],
   "source": [
    "for qpair in config.coupling_map[:5]:  # Limit to first 5 pairs for brevity\n",
    "        print(\"\\nTwo-Qubit Gate Errors and Times (CNOT):\")\n",
    "        error = properties.gate_error('ecr', qpair) if properties.gate_error('ecr', qpair) is not None else \"N/A\"\n",
    "        duration = target['ecr'][tuple(qpair)].duration * 1e9 if (tuple(qpair) in target['ecr']) else \"N/A\"\n",
    "        print(f\"    Qubits {qpair}: Error = {error:.4f}, Duration = {duration:.1f} ns\")"
   ]
  },
  {
   "cell_type": "code",
   "execution_count": null,
   "id": "074c44c4",
   "metadata": {},
   "outputs": [],
   "source": [
    "print(\"\\nReadout Errors:\")\n",
    "for qubit in range(min(5, config.n_qubits)):  # Limit to first 5 qubits\n",
    "    error = properties.readout_error(qubit)\n",
    "    print(f\"  Qubit {qubit}: Readout Error = {error:.4f}\")"
   ]
  },
  {
   "cell_type": "code",
   "execution_count": null,
   "id": "4b4b0c8a",
   "metadata": {},
   "outputs": [],
   "source": [
    "print(\"\\nT1 and T2 Times (for ThermalRelaxationError):\")\n",
    "for qubit in range(min(5, config.n_qubits)):\n",
    "    t1 = properties.qubit_property(qubit)['T1'][0] * 1e6  # Convert to microseconds\n",
    "    t2 = properties.qubit_property(qubit)['T2'][0] * 1e6  # Convert to microseconds\n",
    "    print(f\"  Qubit {qubit}: T1 = {t1:.2f} µs, T2 = {t2:.2f} µs\")"
   ]
  },
  {
   "cell_type": "code",
   "execution_count": null,
   "id": "3095afea",
   "metadata": {},
   "outputs": [],
   "source": [
    "# Create Bell State\n",
    "qc = QuantumCircuit(2)\n",
    "qc.h(0)\n",
    "qc.cx(0, 1)\n",
    "qc.measure_all()"
   ]
  },
  {
   "cell_type": "code",
   "execution_count": null,
   "id": "6a31e2cb",
   "metadata": {},
   "outputs": [],
   "source": [
    "# Transpile\n",
    "pm = generate_preset_pass_manager(backend=backend, optimization_level=1)\n",
    "isa_circuit = pm.run(qc)"
   ]
  },
  {
   "cell_type": "code",
   "execution_count": null,
   "id": "84efb0b4",
   "metadata": {},
   "outputs": [],
   "source": [
    "# Run on real hardware\n",
    "sampler = Sampler(mode=backend)\n",
    "job = sampler.run([isa_circuit], shots=1000)\n",
    "result = job.result()\n",
    "counts = result[0].data.meas.get_counts()"
   ]
  },
  {
   "cell_type": "code",
   "execution_count": null,
   "id": "74c5ba9c",
   "metadata": {},
   "outputs": [],
   "source": [
    "print(f\"Results: {counts}\")\n",
    "\n",
    "# Calculate Bell state fidelity\n",
    "total = sum(counts.values())\n",
    "bell_fidelity = (counts.get('00', 0) + counts.get('11', 0)) / total\n",
    "print(f\"Bell state fidelity: {bell_fidelity:.3f}\")"
   ]
  },
  {
   "cell_type": "code",
   "execution_count": null,
   "id": "be26381d",
   "metadata": {},
   "outputs": [],
   "source": []
  }
 ],
 "metadata": {
  "kernelspec": {
   "display_name": "ST",
   "language": "python",
   "name": "python3"
  },
  "language_info": {
   "codemirror_mode": {
    "name": "ipython",
    "version": 3
   },
   "file_extension": ".py",
   "mimetype": "text/x-python",
   "name": "python",
   "nbconvert_exporter": "python",
   "pygments_lexer": "ipython3",
   "version": "3.9.22"
  }
 },
 "nbformat": 4,
 "nbformat_minor": 5
}
